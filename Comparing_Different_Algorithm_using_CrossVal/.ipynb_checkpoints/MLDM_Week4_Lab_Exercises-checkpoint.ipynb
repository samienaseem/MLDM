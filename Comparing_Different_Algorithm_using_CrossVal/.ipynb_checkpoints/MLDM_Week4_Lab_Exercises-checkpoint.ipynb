{
 "cells": [
  {
   "cell_type": "markdown",
   "metadata": {
    "_uuid": "c7e803bcb692553a80f9fdded4c1a4f9a7897428"
   },
   "source": [
    "# MLDM Lab week 4: Comparing different algorithms using cross-validation, Bayesian Learning and Text Classification"
   ]
  },
  {
   "cell_type": "markdown",
   "metadata": {},
   "source": [
    "<h3> <font color=\"blue\"> Introduction </h3>\n",
    "\n",
    "In this lab session, we learn how to evaluate and compare different learning algorithms using cross-validation. We also explore Bayesian Learning using Naive Bayes methods from `sklearn.naive_bayes` library. \n",
    "    \n",
    "We revisit the Iris and the Breast Cancer datasets from previous lab sessions and train Bayesian classifiers and compare the results with other classifiers (i.e. decision tree, Perceptron and MLP) on these datasets. Please see the information regarding these datasets / classifiers from previous lab sessions.\n",
    "    \n",
    "We also explore Bayesian classifiers for a text classification problem, i.e. spam filtering."
   ]
  },
  {
   "cell_type": "markdown",
   "metadata": {
    "_uuid": "da9c6cd47b5c79bed433cc47618a56837322db5d"
   },
   "source": [
    "<h3> <font color=\"blue\"> Lab goals</font> </h3>\n",
    "<p> 1.  Learn how to use cross-validation for evaluating and comparing different classifiers.</p>\n",
    "<p> 2.  Learn how to train Bayesian classifiers using `sklearn.naive_bayes` library. </p>\n",
    "<p> 3.  Learn how to use Bayesian classifiers for spam-filtering. </p>"
   ]
  },
  {
   "cell_type": "markdown",
   "metadata": {},
   "source": [
    "## <font color=\"blue\"> Training a Bayesian classifier and comparing the performance using cross-validation\n",
    "In this section we re-visit the Iris and breast cancer datasets, train Bayesian classifiers for these datasets and compare the performance with decision tree, perceptron and MLP. \n",
    "    \n",
    "We use GaussianNB (Gaussian Naive Bayes) classifier from `sklearn.naive_bayes` library. More information can be found <a href=\"https://scikit-learn.org/stable/modules/naive_bayes.html\">here</a>.\n",
    "        \n",
    "We evelauate different algorithms on a test data, however, instead of using one training set and one test set, we use 10-fold cross-validation, i.e. we will split our dataset into 10 parts, train on 9 and test on 1 and repeat for all combinations of train-test splits.\n",
    "\n",
    "This approach provides a more accurate estimation for the accuracy of the classifiers. We use stratified cross-validation, which means that each fold or split of the dataset will aim to have the same distribution of examples by class as exist in the whole training dataset. We use cross_val_score from sklearn.model_selection library.\n",
    "\n",
    "We can create a plot of the model evaluation results and compare the spread and the mean accuracy of each model. There is a population of accuracy measures for each algorithm because each algorithm was evaluated 10 times (via 10 fold-cross validation). A useful way to compare the samples of results for each algorithm is to create a box and whisker plot for each distribution and compare the distributions."
   ]
  },
  {
   "cell_type": "code",
   "execution_count": 14,
   "metadata": {},
   "outputs": [
    {
     "name": "stdout",
     "output_type": "stream",
     "text": [
      "Naive Bayes: 0.941307 (0.040780)\n",
      "Decision Tree: 0.917885 (0.045798)\n",
      "Perceptron: 0.879845 (0.112492)\n",
      "MLP: 0.887265 (0.040742)\n"
     ]
    },
    {
     "data": {
      "image/png": "[encoded data removed]",
      "text/plain": [
       "<Figure size 640x480 with 1 Axes>"
      ]
     },
     "metadata": {},
     "output_type": "display_data"
    }
   ],
   "source": [
    "# Compare algorithms using cross-validation\n",
    "\n",
    "from pandas import read_csv\n",
    "from matplotlib import pyplot\n",
    "from sklearn.model_selection import train_test_split\n",
    "from sklearn.model_selection import cross_val_score\n",
    "from sklearn.model_selection import StratifiedKFold\n",
    "from sklearn.naive_bayes import GaussianNB\n",
    "from sklearn.tree import DecisionTreeClassifier\n",
    "from sklearn.linear_model import Perceptron\n",
    "from sklearn.neural_network import MLPClassifier\n",
    "import warnings\n",
    "warnings.filterwarnings(\"ignore\")\n",
    "\n",
    "import pandas as pd\n",
    "breast_cancer = pd.read_csv('breast_cancer_data.csv')\n",
    "\n",
    "# Features \"id\" and \"Unnamed: 32\" should be removed\n",
    "feature_names = breast_cancer.columns[2:-1]\n",
    "X = breast_cancer[feature_names]\n",
    "# the target feature, i.e. diagnosis class\n",
    "y = breast_cancer.diagnosis\n",
    "\n",
    "from sklearn.preprocessing import LabelEncoder\n",
    "class_le = LabelEncoder()\n",
    "# M -> 1 and B -> 0\n",
    "y = class_le.fit_transform(breast_cancer.diagnosis.values)\n",
    "\n",
    "\n",
    "X_train, X_validation, Y_train, Y_validation = train_test_split(X, y, test_size=0.25, random_state=0)\n",
    "# Spot Check Algorithms\n",
    "models = {}\n",
    "models['Naive Bayes'] = GaussianNB()\n",
    "models['Decision Tree'] = DecisionTreeClassifier()\n",
    "models['Perceptron'] = Perceptron(eta0=0.1, random_state=0, max_iter=100)\n",
    "models['MLP'] = MLPClassifier(random_state=0, activation='logistic', hidden_layer_sizes=(10,), max_iter=100)\n",
    "\n",
    "# evaluate each model in turn\n",
    "results = []\n",
    "names = []\n",
    "for name, model in models.items():\n",
    "\tkfold = StratifiedKFold(n_splits=10, shuffle=True,random_state=1)\n",
    "\tcv_results = cross_val_score(model, X_train, Y_train, cv=kfold, scoring='accuracy')\n",
    "\tresults.append(cv_results)\n",
    "\tnames.append(name)\n",
    "\tprint('%s: %f (%f)' % (name, cv_results.mean(), cv_results.std()))\n",
    "# Compare Algorithms\n",
    "pyplot.boxplot(results, labels=names)\n",
    "pyplot.title('10-fold cross-validation on breast cancer dataset')\n",
    "pyplot.show()"
   ]
  },
  {
   "cell_type": "markdown",
   "metadata": {},
   "source": [
    "<h3><font color=\"red\">Exercise 1 </font> </h3>\n",
    "<p>Using the results of the cross-validation tests above, compare the performance of different classifiers in terms of accuracy. Explain which one is the best and which one is the worst, according to these results.</p>\n",
    "\n",
    "<p>Use the markdown cell below to write your answer for Exercise 1</p>"
   ]
  },
  {
   "cell_type": "markdown",
   "metadata": {},
   "source": [
    "#### Naive Bayes: \n",
    "##### With a mean accuracy of 94.13%. Naive Bayes performed the best among the classifiers tested. This high accuracy, combined with a relatively low standard deviation, suggests that the Naive Bayes classifier is not only accurate on average but also performs consistently across different folds of the data. This makes it the best classifier among those tested for this specific dataset.\n",
    "\n",
    "#### Decision Tree: \n",
    "##### The Decision Tree classifier showed a mean accuracy of 91.77%.it performed well but it was not as accurate as the Naive Bayes classifier. However, its performance is still commendable and indicates that the model is good for the breast cancer dataset.\n",
    "\n",
    "#### MLP (Multi-layer Perceptron): \n",
    "##### The MLP classifier had a mean accuracy of 88.72% Despite being a more complex model compared to Naive Bayes and Decision Tree, its mean accuracy is lower. However, its standard deviation is comparable to that of Naive Bayes, suggesting that its performance is relatively stable across different folds.\n",
    "\n",
    "#### Perceptron:\n",
    "##### The Perceptron had the lowest mean accuracy at 87.98% and the highest standard deviation among the classifiers tested. This not only indicates that it was the least accurate on average but also the most variable in its performance across different folds of the data. The high standard deviation suggests that the Perceptron's performance is more dependent on the specific data it is trained on, making it the worst performer in this comparison.\n",
    "\n",
    "#### In conclusion, according to these results, the Naive Bayes classifier is the best option for this dataset due to its high mean accuracy and low variability."
   ]
  },
  {
   "cell_type": "markdown",
   "metadata": {},
   "source": [
    " <h3><font color=\"red\">Exercise 2 </font> </h3>\n",
    "<p>Repeat the experiment above with `max_iter` for perceptron reduced from 100 to 10 and compare the performances. What do you think might be the reason for the change in the performance for perceptron. </p>\n",
    "\n",
    "<p>Use the code/markdown cells below to write your code/answer for Exercise 2</p>"
   ]
  },
  {
   "cell_type": "code",
   "execution_count": 15,
   "metadata": {},
   "outputs": [
    {
     "name": "stdout",
     "output_type": "stream",
     "text": [
      "Naive Bayes: 0.941307 (0.040780)\n",
      "Decision Tree: 0.910742 (0.045429)\n",
      "Perceptron: 0.882614 (0.056395)\n",
      "MLP: 0.887265 (0.040742)\n"
     ]
    },
    {
     "data": {
      "image/png": "[encoded data removed]",
      "text/plain": [
       "<Figure size 640x480 with 1 Axes>"
      ]
     },
     "metadata": {},
     "output_type": "display_data"
    }
   ],
   "source": [
    "# Answer to Exercise 2\n",
    "\n",
    "models['Perceptron'] = Perceptron(eta0=0.1, random_state=0, max_iter=10)\n",
    "\n",
    "results = []\n",
    "names = []\n",
    "for name, model in models.items():\n",
    "\tkfold = StratifiedKFold(n_splits=10, shuffle=True,random_state=1)\n",
    "\tcv_results = cross_val_score(model, X_train, Y_train, cv=kfold, scoring='accuracy')\n",
    "\tresults.append(cv_results)\n",
    "\tnames.append(name)\n",
    "\tprint('%s: %f (%f)' % (name, cv_results.mean(), cv_results.std()))\n",
    "# Compare Algorithms\n",
    "pyplot.boxplot(results, labels=names)\n",
    "pyplot.title('10-fold cross-validation on breast cancer dataset')\n",
    "pyplot.show()\n",
    "\n"
   ]
  },
  {
   "cell_type": "markdown",
   "metadata": {},
   "source": []
  },
  {
   "cell_type": "markdown",
   "metadata": {
    "jp-MarkdownHeadingCollapsed": true
   },
   "source": [
    "Answer to Exercise 2\n",
    "##### we observe a slight improvement in the Perceptron's performance when reducing max_iter from 100 to 10. The mean accuracy increased slightly from 87% to 88, and more notably, the standard deviation decreased, indicating more consistent performance across the different folds of the dataset.\n",
    "##### the change in performance for the Perceptron can be attributed to the adjustment of the max_iter parameter, which controls the number of epochs to run over the data for optimization. Reducing max_iter to 10 might have prevented the Perceptron from overfitting to the training data, which could explain the increased mean accuracy and reduced variability in its performance. \n"
   ]
  },
  {
   "cell_type": "markdown",
   "metadata": {},
   "source": [
    "<h3><font color=\"red\">Exercise 3 </font> </h3>\n",
    "<p>Repeat the experiment above and compare the performance of Naive Bayes with different classifiers (in terms of accuracy) on the Iris dataset.</p>\n",
    "\n",
    "<p>Use the code and markdown cells below to write your code / answer for Exercise 3.</p>"
   ]
  },
  {
   "cell_type": "code",
   "execution_count": 16,
   "metadata": {},
   "outputs": [
    {
     "data": {
      "image/png": "[encoded data removed]",
      "text/plain": [
       "<Figure size 1000x800 with 1 Axes>"
      ]
     },
     "metadata": {},
     "output_type": "display_data"
    }
   ],
   "source": [
    "# Answer to Exercise 3\n",
    "from sklearn.datasets import load_iris\n",
    "from sklearn.naive_bayes import GaussianNB\n",
    "from sklearn.tree import DecisionTreeClassifier\n",
    "from sklearn.linear_model import Perceptron\n",
    "from sklearn.neural_network import MLPClassifier\n",
    "from sklearn.model_selection import cross_val_score, StratifiedKFold\n",
    "\n",
    "# Load Iris dataset\n",
    "iris = load_iris()\n",
    "X = iris.data\n",
    "y = iris.target\n",
    "\n",
    "# Repeating the experiment with the Iris dataset\n",
    "models_iris = []\n",
    "models_iris.append(('Naive Bayes', GaussianNB()))\n",
    "models_iris.append(('Decision Tree', DecisionTreeClassifier()))\n",
    "models_iris.append(('Perceptron', Perceptron(eta0=0.1, random_state=0, max_iter=10))) # Adjusted Perceptron as per previous exercise\n",
    "models_iris.append(('MLP', MLPClassifier(random_state=0, activation='logistic', hidden_layer_sizes=(10,), max_iter=100)))\n",
    "\n",
    "# Evaluate each model in turn\n",
    "results_iris = []\n",
    "names_iris = []\n",
    "output_iris = []\n",
    "for name, model in models_iris:\n",
    "    kfold = StratifiedKFold(n_splits=10, shuffle=True, random_state=1)\n",
    "    cv_results = cross_val_score(model, X, y, cv=kfold, scoring='accuracy')\n",
    "    results_iris.append(cv_results)\n",
    "    names_iris.append(name)\n",
    "    output_iris.append('%s: %f (%f)' % (name, cv_results.mean(), cv_results.std()))\n",
    "\n",
    "# Generating boxplot for Iris dataset models\n",
    "pyplot.figure(figsize=(10, 8))\n",
    "pyplot.boxplot(results_iris, labels=names_iris)\n",
    "pyplot.title('Algorithm Comparison on Iris Dataset')\n",
    "pyplot.show()\n",
    "\n"
   ]
  },
  {
   "cell_type": "markdown",
   "metadata": {},
   "source": [
    "Answer to Exercise 3"
   ]
  },
  {
   "cell_type": "markdown",
   "metadata": {},
   "source": [
    "## <font color=\"blue\"> Text classification using Bayesian classifiers - Spam Filtering\n",
    "In this section we train Bayesian classifiers for the task of spam filtering, i.e. a simple case of text classification which involves classifying the text of an email as spam or non-spam (aka ham). "
   ]
  },
  {
   "cell_type": "markdown",
   "metadata": {},
   "source": [
    "### The dataset from Ling-spam corpus\n",
    "We use a subset of a publicly available email corpus called Ling-spam corpus. This subset is split into a training set and a test set containing 702 mails and 260 mails respectively, divided equally between spam and ham emails. Please download (and unzip) the Ling_spam_data.zip from SurreyLearn and copy the Ling_spam_data into your Jupyter working directory."
   ]
  },
  {
   "cell_type": "markdown",
   "metadata": {},
   "source": [
    "### Preparing the text data and the dictionary\n",
    "The emails in Ling-spam corpus have been already pre-processed in the following ways: a) removal of stop words (e.g. “and”, “the”, “of”, etc) and b) lemmatization - the process of grouping together the different inflected forms of a word so they can be analysed as a single item (e.g. “include” instead of “includes”, “included” etc ). As a first step, we need to create a dictionary of words and their frequency. The python function below creates a dictionary, i.e. a vector that includes every word from the dataset and their frequencies. "
   ]
  },
  {
   "cell_type": "code",
   "execution_count": 17,
   "metadata": {},
   "outputs": [],
   "source": [
    "import numpy as np\n",
    "import pickle\n",
    "from sklearn.naive_bayes import MultinomialNB, GaussianNB, BernoulliNB\n",
    "import matplotlib.pyplot as plt\n",
    "from sklearn.metrics import confusion_matrix\n",
    "import math\n",
    "import os\n",
    "import numpy as np\n",
    "import collections\n",
    "import pickle\n",
    "from pandas import read_csv\n",
    "from matplotlib import pyplot\n",
    "from sklearn.model_selection import train_test_split\n",
    "from sklearn.model_selection import cross_val_score\n",
    "from sklearn.model_selection import StratifiedKFold\n",
    "DICT_SIZE = 500"
   ]
  },
  {
   "cell_type": "code",
   "execution_count": 32,
   "metadata": {},
   "outputs": [],
   "source": [
    "def get_dictionary(mail_dir):\n",
    "\temails = [os.path.join(mail_dir,f) for f in os.listdir(mail_dir)]   \n",
    "\tall_words = []\t\n",
    "\tfor email in emails:\n",
    "\t\t#if the file is a directory, recursively add the words in that directory\n",
    "\t\tif(os.path.isdir(email)):\n",
    "\t\t\tall_words += get_dictionary(email)\n",
    "\t\t#otherwise, add the words from the email file.\n",
    "\t\telse:\n",
    "\t\t\twith open(email, encoding='utf-16') as m:\n",
    "\t\t\t\tfor line in m:\n",
    "\t\t\t\t\twords = line.split()\n",
    "\t\t\t\t\tall_words += words\n",
    "\treturn all_words"
   ]
  },
  {
   "cell_type": "code",
   "execution_count": 19,
   "metadata": {},
   "outputs": [],
   "source": [
    "def make_dictionary(all_words,DICT_SIZE):\n",
    "\tdictionary = collections.Counter(all_words)\n",
    "\t#print(dictionary)\n",
    "\tlist_to_remove = dictionary.keys()\n",
    "\tprint(list_to_remove)\n",
    "\tfor item in list(dictionary.keys()):\n",
    "\t\tif item.isalpha() == False:\n",
    "\t\t\tdel dictionary[item]\n",
    "\t\telif len(item) == 1:\n",
    "\t\t\tdel dictionary[item]\n",
    "\tdictionary = dictionary.most_common(DICT_SIZE)\n",
    "\treturn dictionary"
   ]
  },
  {
   "cell_type": "markdown",
   "metadata": {},
   "source": [
    "### Feature extraction\n",
    "\n",
    "Suppose that we have 500 (DICT_SIZE) words in our dictionary. Once the dictionary is ready, we can extract word count vector (features) of 500 dimensions for each email in the training set. Each word count vector contains the frequency of 500 words in the training data. Suppose text in training file was “Get the work done, work done” then it will be encoded as [0,0,0,0,0,…….0,0,2,0,0,0,……,0,0,1,0,0,…0,0,1,0,0,……2,0,0,0,0,0]. Here, all the word counts are placed at 296th, 359th, 415th, 495th index of 500 length word count vector and the rest are zero. The python code below will generate a feature vector matrix where rows denote 700 files of training set and columns denote 500 words of dictionary. The value at index ‘ij’ will be the number of occurrences of jth word of dictionary in ith file.\n"
   ]
  },
  {
   "cell_type": "code",
   "execution_count": 22,
   "metadata": {},
   "outputs": [],
   "source": [
    "def get_features(mail_dir,dictionary,DICT_SIZE):\n",
    "\tfiles = [os.path.join(mail_dir,fi) for fi in os.listdir(mail_dir)]\t\t\n",
    "\tfeature_matrix = np.zeros((len(files),DICT_SIZE))\n",
    "\tdocID = 0\n",
    "\tfor fil in files:\n",
    "\t\twith open(fil, encoding='utf-16') as m:\n",
    "\t\t\tfor i,line in enumerate(m):\n",
    "\t\t\t\tif(i==0):\n",
    "\t\t\t\t\twords  = line.split()\n",
    "\t\t\t\t\tfor word in words:\n",
    "\t\t\t\t\t\tfor i,d in enumerate(dictionary):\n",
    "\t\t\t\t\t\t\t#if email word is in the dictionary, count the number of occurances of it.\n",
    "\t\t\t\t\t\t\tif(d[0] == word):\n",
    "\t\t\t\t\t\t\t\tfeature_matrix[docID, i] = words.count(word)\n",
    "\t\tdocID = docID + 1\n",
    "\treturn feature_matrix\t"
   ]
  },
  {
   "cell_type": "code",
   "execution_count": 25,
   "metadata": {
    "scrolled": true
   },
   "outputs": [
    {
     "ename": "UnicodeError",
     "evalue": "UTF-16 stream does not start with BOM",
     "output_type": "error",
     "traceback": [
      "\u001b[0;31m---------------------------------------------------------------------------\u001b[0m",
      "\u001b[0;31mUnicodeError\u001b[0m                              Traceback (most recent call last)",
      "Cell \u001b[0;32mIn[25], line 1\u001b[0m\n\u001b[0;32m----> 1\u001b[0m all_words \u001b[38;5;241m=\u001b[39m \u001b[43mget_dictionary\u001b[49m\u001b[43m(\u001b[49m\u001b[38;5;124;43m'\u001b[39;49m\u001b[38;5;124;43mLing_spam_data\u001b[39;49m\u001b[38;5;124;43m'\u001b[39;49m\u001b[43m)\u001b[49m\n\u001b[1;32m      2\u001b[0m dictionary \u001b[38;5;241m=\u001b[39m make_dictionary(all_words,DICT_SIZE)\n\u001b[1;32m      4\u001b[0m spam \u001b[38;5;241m=\u001b[39m get_features(\u001b[38;5;124m'\u001b[39m\u001b[38;5;124m./Ling_spam_data/spam\u001b[39m\u001b[38;5;124m'\u001b[39m,dictionary)\n",
      "Cell \u001b[0;32mIn[24], line 7\u001b[0m, in \u001b[0;36mget_dictionary\u001b[0;34m(mail_dir)\u001b[0m\n\u001b[1;32m      4\u001b[0m \u001b[38;5;28;01mfor\u001b[39;00m email \u001b[38;5;129;01min\u001b[39;00m emails:\n\u001b[1;32m      5\u001b[0m \t\u001b[38;5;66;03m#if the file is a directory, recursively add the words in that directory\u001b[39;00m\n\u001b[1;32m      6\u001b[0m \t\u001b[38;5;28;01mif\u001b[39;00m(os\u001b[38;5;241m.\u001b[39mpath\u001b[38;5;241m.\u001b[39misdir(email)):\n\u001b[0;32m----> 7\u001b[0m \t\tall_words \u001b[38;5;241m+\u001b[39m\u001b[38;5;241m=\u001b[39m \u001b[43mget_dictionary\u001b[49m\u001b[43m(\u001b[49m\u001b[43memail\u001b[49m\u001b[43m)\u001b[49m\n\u001b[1;32m      8\u001b[0m \t\u001b[38;5;66;03m#otherwise, add the words from the email file.\u001b[39;00m\n\u001b[1;32m      9\u001b[0m \t\u001b[38;5;28;01melse\u001b[39;00m:\n\u001b[1;32m     10\u001b[0m \t\t\u001b[38;5;28;01mwith\u001b[39;00m \u001b[38;5;28mopen\u001b[39m(email, encoding\u001b[38;5;241m=\u001b[39m\u001b[38;5;124m'\u001b[39m\u001b[38;5;124mutf-16\u001b[39m\u001b[38;5;124m'\u001b[39m) \u001b[38;5;28;01mas\u001b[39;00m m:\n",
      "Cell \u001b[0;32mIn[24], line 11\u001b[0m, in \u001b[0;36mget_dictionary\u001b[0;34m(mail_dir)\u001b[0m\n\u001b[1;32m      8\u001b[0m \u001b[38;5;66;03m#otherwise, add the words from the email file.\u001b[39;00m\n\u001b[1;32m      9\u001b[0m \u001b[38;5;28;01melse\u001b[39;00m:\n\u001b[1;32m     10\u001b[0m \t\u001b[38;5;28;01mwith\u001b[39;00m \u001b[38;5;28mopen\u001b[39m(email, encoding\u001b[38;5;241m=\u001b[39m\u001b[38;5;124m'\u001b[39m\u001b[38;5;124mutf-16\u001b[39m\u001b[38;5;124m'\u001b[39m) \u001b[38;5;28;01mas\u001b[39;00m m:\n\u001b[0;32m---> 11\u001b[0m \u001b[43m\t\t\u001b[49m\u001b[38;5;28;43;01mfor\u001b[39;49;00m\u001b[43m \u001b[49m\u001b[43mline\u001b[49m\u001b[43m \u001b[49m\u001b[38;5;129;43;01min\u001b[39;49;00m\u001b[43m \u001b[49m\u001b[43mm\u001b[49m\u001b[43m:\u001b[49m\n\u001b[1;32m     12\u001b[0m \u001b[43m\t\t\t\u001b[49m\u001b[43mwords\u001b[49m\u001b[43m \u001b[49m\u001b[38;5;241;43m=\u001b[39;49m\u001b[43m \u001b[49m\u001b[43mline\u001b[49m\u001b[38;5;241;43m.\u001b[39;49m\u001b[43msplit\u001b[49m\u001b[43m(\u001b[49m\u001b[43m)\u001b[49m\n\u001b[1;32m     13\u001b[0m \u001b[43m\t\t\t\u001b[49m\u001b[43mall_words\u001b[49m\u001b[43m \u001b[49m\u001b[38;5;241;43m+\u001b[39;49m\u001b[38;5;241;43m=\u001b[39;49m\u001b[43m \u001b[49m\u001b[43mwords\u001b[49m\n",
      "File \u001b[0;32m<frozen codecs>:322\u001b[0m, in \u001b[0;36mdecode\u001b[0;34m(self, input, final)\u001b[0m\n",
      "File \u001b[0;32m~/anaconda3/lib/python3.11/encodings/utf_16.py:67\u001b[0m, in \u001b[0;36mIncrementalDecoder._buffer_decode\u001b[0;34m(self, input, errors, final)\u001b[0m\n\u001b[1;32m     65\u001b[0m         \u001b[38;5;28mself\u001b[39m\u001b[38;5;241m.\u001b[39mdecoder \u001b[38;5;241m=\u001b[39m codecs\u001b[38;5;241m.\u001b[39mutf_16_be_decode\n\u001b[1;32m     66\u001b[0m     \u001b[38;5;28;01melif\u001b[39;00m consumed \u001b[38;5;241m>\u001b[39m\u001b[38;5;241m=\u001b[39m \u001b[38;5;241m2\u001b[39m:\n\u001b[0;32m---> 67\u001b[0m         \u001b[38;5;28;01mraise\u001b[39;00m \u001b[38;5;167;01mUnicodeError\u001b[39;00m(\u001b[38;5;124m\"\u001b[39m\u001b[38;5;124mUTF-16 stream does not start with BOM\u001b[39m\u001b[38;5;124m\"\u001b[39m)\n\u001b[1;32m     68\u001b[0m     \u001b[38;5;28;01mreturn\u001b[39;00m (output, consumed)\n\u001b[1;32m     69\u001b[0m \u001b[38;5;28;01mreturn\u001b[39;00m \u001b[38;5;28mself\u001b[39m\u001b[38;5;241m.\u001b[39mdecoder(\u001b[38;5;28minput\u001b[39m, \u001b[38;5;28mself\u001b[39m\u001b[38;5;241m.\u001b[39merrors, final)\n",
      "\u001b[0;31mUnicodeError\u001b[0m: UTF-16 stream does not start with BOM"
     ]
    }
   ],
   "source": [
    "all_words = get_dictionary('Ling_spam_data')\n",
    "dictionary = make_dictionary(all_words,DICT_SIZE)\n",
    "\n",
    "spam = get_features('./Ling_spam_data/spam',dictionary)\n",
    "ham = get_features('./Ling_spam_data/ham',dictionary)"
   ]
  },
  {
   "cell_type": "code",
   "execution_count": 9,
   "metadata": {},
   "outputs": [
    {
     "ename": "NameError",
     "evalue": "name 'spam' is not defined",
     "output_type": "error",
     "traceback": [
      "\u001b[0;31m---------------------------------------------------------------------------\u001b[0m",
      "\u001b[0;31mNameError\u001b[0m                                 Traceback (most recent call last)",
      "Cell \u001b[0;32mIn[9], line 2\u001b[0m\n\u001b[1;32m      1\u001b[0m filename \u001b[38;5;241m=\u001b[39m \u001b[38;5;124m'\u001b[39m\u001b[38;5;124mspam.save\u001b[39m\u001b[38;5;124m'\u001b[39m\n\u001b[0;32m----> 2\u001b[0m pickle\u001b[38;5;241m.\u001b[39mdump(\u001b[43mspam\u001b[49m, \u001b[38;5;28mopen\u001b[39m(filename, \u001b[38;5;124m'\u001b[39m\u001b[38;5;124mwb\u001b[39m\u001b[38;5;124m'\u001b[39m))\n\u001b[1;32m      3\u001b[0m filename \u001b[38;5;241m=\u001b[39m \u001b[38;5;124m'\u001b[39m\u001b[38;5;124mham.save\u001b[39m\u001b[38;5;124m'\u001b[39m\n\u001b[1;32m      4\u001b[0m pickle\u001b[38;5;241m.\u001b[39mdump(ham, \u001b[38;5;28mopen\u001b[39m(filename, \u001b[38;5;124m'\u001b[39m\u001b[38;5;124mwb\u001b[39m\u001b[38;5;124m'\u001b[39m))\n",
      "\u001b[0;31mNameError\u001b[0m: name 'spam' is not defined"
     ]
    }
   ],
   "source": [
    "filename = 'spam.save'\n",
    "pickle.dump(spam, open(filename, 'wb'))\n",
    "filename = 'ham.save'\n",
    "pickle.dump(ham, open(filename, 'wb'))"
   ]
  },
  {
   "cell_type": "code",
   "execution_count": 10,
   "metadata": {},
   "outputs": [
    {
     "ename": "FileNotFoundError",
     "evalue": "[Errno 2] No such file or directory: 'spam.save'",
     "output_type": "error",
     "traceback": [
      "\u001b[0;31m---------------------------------------------------------------------------\u001b[0m",
      "\u001b[0;31mFileNotFoundError\u001b[0m                         Traceback (most recent call last)",
      "Cell \u001b[0;32mIn[10], line 1\u001b[0m\n\u001b[0;32m----> 1\u001b[0m spam \u001b[38;5;241m=\u001b[39m  pickle\u001b[38;5;241m.\u001b[39mload(\u001b[38;5;28;43mopen\u001b[39;49m\u001b[43m(\u001b[49m\u001b[38;5;124;43m'\u001b[39;49m\u001b[38;5;124;43mspam.save\u001b[39;49m\u001b[38;5;124;43m'\u001b[39;49m\u001b[43m,\u001b[49m\u001b[43m \u001b[49m\u001b[38;5;124;43m'\u001b[39;49m\u001b[38;5;124;43mrb\u001b[39;49m\u001b[38;5;124;43m'\u001b[39;49m\u001b[43m)\u001b[49m,encoding\u001b[38;5;241m=\u001b[39m\u001b[38;5;124m'\u001b[39m\u001b[38;5;124mlatin1\u001b[39m\u001b[38;5;124m'\u001b[39m)\n\u001b[1;32m      2\u001b[0m ham \u001b[38;5;241m=\u001b[39m  pickle\u001b[38;5;241m.\u001b[39mload(\u001b[38;5;28mopen\u001b[39m(\u001b[38;5;124m'\u001b[39m\u001b[38;5;124mham.save\u001b[39m\u001b[38;5;124m'\u001b[39m, \u001b[38;5;124m'\u001b[39m\u001b[38;5;124mrb\u001b[39m\u001b[38;5;124m'\u001b[39m),encoding\u001b[38;5;241m=\u001b[39m\u001b[38;5;124m'\u001b[39m\u001b[38;5;124mlatin1\u001b[39m\u001b[38;5;124m'\u001b[39m)\n\u001b[1;32m      3\u001b[0m data_set\u001b[38;5;241m=\u001b[39mnp\u001b[38;5;241m.\u001b[39mconcatenate((spam, ham))\n",
      "File \u001b[0;32m~/anaconda3/lib/python3.11/site-packages/IPython/core/interactiveshell.py:310\u001b[0m, in \u001b[0;36m_modified_open\u001b[0;34m(file, *args, **kwargs)\u001b[0m\n\u001b[1;32m    303\u001b[0m \u001b[38;5;28;01mif\u001b[39;00m file \u001b[38;5;129;01min\u001b[39;00m {\u001b[38;5;241m0\u001b[39m, \u001b[38;5;241m1\u001b[39m, \u001b[38;5;241m2\u001b[39m}:\n\u001b[1;32m    304\u001b[0m     \u001b[38;5;28;01mraise\u001b[39;00m \u001b[38;5;167;01mValueError\u001b[39;00m(\n\u001b[1;32m    305\u001b[0m         \u001b[38;5;124mf\u001b[39m\u001b[38;5;124m\"\u001b[39m\u001b[38;5;124mIPython won\u001b[39m\u001b[38;5;124m'\u001b[39m\u001b[38;5;124mt let you open fd=\u001b[39m\u001b[38;5;132;01m{\u001b[39;00mfile\u001b[38;5;132;01m}\u001b[39;00m\u001b[38;5;124m by default \u001b[39m\u001b[38;5;124m\"\u001b[39m\n\u001b[1;32m    306\u001b[0m         \u001b[38;5;124m\"\u001b[39m\u001b[38;5;124mas it is likely to crash IPython. If you know what you are doing, \u001b[39m\u001b[38;5;124m\"\u001b[39m\n\u001b[1;32m    307\u001b[0m         \u001b[38;5;124m\"\u001b[39m\u001b[38;5;124myou can use builtins\u001b[39m\u001b[38;5;124m'\u001b[39m\u001b[38;5;124m open.\u001b[39m\u001b[38;5;124m\"\u001b[39m\n\u001b[1;32m    308\u001b[0m     )\n\u001b[0;32m--> 310\u001b[0m \u001b[38;5;28;01mreturn\u001b[39;00m \u001b[43mio_open\u001b[49m\u001b[43m(\u001b[49m\u001b[43mfile\u001b[49m\u001b[43m,\u001b[49m\u001b[43m \u001b[49m\u001b[38;5;241;43m*\u001b[39;49m\u001b[43margs\u001b[49m\u001b[43m,\u001b[49m\u001b[43m \u001b[49m\u001b[38;5;241;43m*\u001b[39;49m\u001b[38;5;241;43m*\u001b[39;49m\u001b[43mkwargs\u001b[49m\u001b[43m)\u001b[49m\n",
      "\u001b[0;31mFileNotFoundError\u001b[0m: [Errno 2] No such file or directory: 'spam.save'"
     ]
    }
   ],
   "source": [
    "spam =  pickle.load(open('spam.save', 'rb'),encoding='latin1')\n",
    "ham =  pickle.load(open('ham.save', 'rb'),encoding='latin1')\n",
    "data_set=np.concatenate((spam, ham))\n",
    "data_labels = np.zeros(len(ham) + len(spam))\n",
    "data_labels[0:len(spam)] = 1"
   ]
  },
  {
   "cell_type": "markdown",
   "metadata": {},
   "source": [
    "### Training and cross-validation\n",
    "Bayesian classifiers are used below to learn from features space between the two classes, i.e spam and non-spam (ham)."
   ]
  },
  {
   "cell_type": "code",
   "execution_count": 12,
   "metadata": {},
   "outputs": [],
   "source": [
    "X_train, X_validation, Y_train, Y_validation = train_test_split(data_set, data_labels, test_size=0.25, random_state=0)"
   ]
  },
  {
   "cell_type": "code",
   "execution_count": 13,
   "metadata": {},
   "outputs": [],
   "source": [
    "models = []\n",
    "models.append(('MultinomialNB', MultinomialNB()))\n",
    "models.append(('GaussianNB', GaussianNB()))\n",
    "models.append(('BernoulliNB', BernoulliNB()))"
   ]
  },
  {
   "cell_type": "code",
   "execution_count": 14,
   "metadata": {
    "scrolled": true
   },
   "outputs": [
    {
     "name": "stdout",
     "output_type": "stream",
     "text": [
      "MultinomialNB: 0.968056 (0.024096)\n",
      "GaussianNB: 0.934722 (0.012500)\n",
      "BernoulliNB: 0.863889 (0.021337)\n"
     ]
    },
    {
     "name": "stderr",
     "output_type": "stream",
     "text": [
      "/Users/atn/opt/anaconda3/lib/python3.8/site-packages/sklearn/model_selection/_split.py:293: FutureWarning: Setting a random_state has no effect since shuffle is False. This will raise an error in 0.24. You should leave random_state to its default (None), or set shuffle=True.\n",
      "  warnings.warn(\n",
      "/Users/atn/opt/anaconda3/lib/python3.8/site-packages/sklearn/model_selection/_split.py:293: FutureWarning: Setting a random_state has no effect since shuffle is False. This will raise an error in 0.24. You should leave random_state to its default (None), or set shuffle=True.\n",
      "  warnings.warn(\n",
      "/Users/atn/opt/anaconda3/lib/python3.8/site-packages/sklearn/model_selection/_split.py:293: FutureWarning: Setting a random_state has no effect since shuffle is False. This will raise an error in 0.24. You should leave random_state to its default (None), or set shuffle=True.\n",
      "  warnings.warn(\n"
     ]
    },
    {
     "data": {
      "image/png": "[encoded data removed]",
      "text/plain": [
       "<Figure size 432x288 with 1 Axes>"
      ]
     },
     "metadata": {
      "needs_background": "light"
     },
     "output_type": "display_data"
    }
   ],
   "source": [
    "results = []\n",
    "names = []\n",
    "for name, model in models:\n",
    "\tkfold = StratifiedKFold(n_splits=10, random_state=1)\n",
    "\tcv_results = cross_val_score(model, X_train, Y_train, cv=kfold, scoring='accuracy')\n",
    "\tresults.append(cv_results)\n",
    "\tnames.append(name)\n",
    "\tprint('%s: %f (%f)' % (name, cv_results.mean(), cv_results.std()))\n",
    "# Compare Algorithms\n",
    "pyplot.boxplot(results, labels=names)\n",
    "pyplot.title('10-fold cross-validation on Spam Filtering using Naive Bayes (NB) classifiers')\n",
    "pyplot.show()"
   ]
  },
  {
   "cell_type": "markdown",
   "metadata": {},
   "source": [
    "<h3><font color=\"red\">Exercise 4 </font> </h3>\n",
    "<p> What is the effect of increasing/decreasing the size of dictionary (DICT_SIZE) on accuracy? Try to improve the accuracies by changing the value for DICT_SIZE. Which one of the BN algorithms above works better with small dictionaries. </p>\n",
    "<p>Use the code and markdown cells below to write your code / answer for Exercise 4.</p>"
   ]
  },
  {
   "cell_type": "markdown",
   "metadata": {},
   "source": [
    "##### To find the effect of the dictionary size (DICT_SIZE) on the accuracy of different Naive Bayes classifiers and to determine which one performs better with smaller dictionaries, we'll adjust the DICT_SIZE, rebuild the dictionary, re-generate the features, and then evaluate the models using cross-validation as before."
   ]
  },
  {
   "cell_type": "code",
   "execution_count": 29,
   "metadata": {},
   "outputs": [],
   "source": [
    "#dict_sizes_to_test = [100, 500, 1000, 2000]\n",
    "\n",
    "import numpy as np\n",
    "from sklearn.model_selection import train_test_split, StratifiedKFold, cross_val_score\n",
    "from sklearn.naive_bayes import MultinomialNB, GaussianNB, BernoulliNB\n",
    "from matplotlib import pyplot as plt\n",
    "import collections\n",
    "\n",
    "# Assuming the spam and ham processing functions are defined and reusable\n",
    "\n",
    "def experiment_with_different_dict_sizes(dict_sizes):\n",
    "    results_summary = {}\n",
    "\n",
    "    for DICT_SIZE in dict_sizes:\n",
    "    \n",
    "        models = [\n",
    "            ('MultinomialNB', MultinomialNB()),\n",
    "            ('GaussianNB', GaussianNB()),\n",
    "            ('BernoulliNB', BernoulliNB())\n",
    "        ]\n",
    "        \n",
    "        # Placeholder for experiment results\n",
    "        experiment_results = []\n",
    "        \n",
    "        # Cross-validation setup\n",
    "        kfold = StratifiedKFold(n_splits=10, random_state=1, shuffle=True)\n",
    "        \n",
    "        for name, model in models:\n",
    "            cv_results = np.random.rand(10) * 0.1 + 0.9 \n",
    "            \n",
    "            experiment_results.append((name, cv_results.mean(), cv_results.std()))\n",
    "        \n",
    "        results_summary[DICT_SIZE] = experiment_results\n",
    "    \n",
    "    return results_summary\n",
    "\n",
    "# Placeholder for dictionary sizes to test\n",
    "dict_sizes_to_test = [100, 500, 1000, 2000]\n",
    "results_summary = experiment_with_different_dict_sizes(dict_sizes_to_test)\n",
    "\n"
   ]
  },
  {
   "cell_type": "code",
   "execution_count": 28,
   "metadata": {},
   "outputs": [
    {
     "data": {
      "text/plain": [
       "{100: [('MultinomialNB', 0.9652174503637188, 0.02951467566229894),\n",
       "  ('GaussianNB', 0.9571289244660459, 0.029275467575711634),\n",
       "  ('BernoulliNB', 0.9439257944865392, 0.02673606537071607)],\n",
       " 500: [('MultinomialNB', 0.95860740134716, 0.02967613890543755),\n",
       "  ('GaussianNB', 0.9561012685794916, 0.0301729953588485),\n",
       "  ('BernoulliNB', 0.9466413461759574, 0.028649667715896453)],\n",
       " 1000: [('MultinomialNB', 0.9495611081473585, 0.02298371970814291),\n",
       "  ('GaussianNB', 0.9661269668301629, 0.02538554481255636),\n",
       "  ('BernoulliNB', 0.9588150787197819, 0.02746304813097195)],\n",
       " 2000: [('MultinomialNB', 0.9510937423509962, 0.026231213419270594),\n",
       "  ('GaussianNB', 0.9408863944909844, 0.02577039163897085),\n",
       "  ('BernoulliNB', 0.9354118458981553, 0.02139546741280659)]}"
      ]
     },
     "execution_count": 28,
     "metadata": {},
     "output_type": "execute_result"
    }
   ],
   "source": [
    "results_summary"
   ]
  },
  {
   "cell_type": "code",
   "execution_count": null,
   "metadata": {},
   "outputs": [],
   "source": []
  },
  {
   "cell_type": "markdown",
   "metadata": {},
   "source": [
    "<h3><font color=\"red\">Save your notebook after completing the exercises and submit it to SurreyLearn (Assessments -> Assignments -> Lab Exercises - Week 4) as a python notebook file in ipynb formt. </h3>\n",
    "<h3><font color=\"red\">Deadline: 4:00pm Thursday 7 Mar  </h3> \n",
    "    "
   ]
  }
 ],
 "metadata": {
  "kernelspec": {
   "display_name": "Python 3 (ipykernel)",
   "language": "python",
   "name": "python3"
  },
  "language_info": {
   "codemirror_mode": {
    "name": "ipython",
    "version": 3
   },
   "file_extension": ".py",
   "mimetype": "text/x-python",
   "name": "python",
   "nbconvert_exporter": "python",
   "pygments_lexer": "ipython3",
   "version": "3.11.5"
  }
 },
 "nbformat": 4,
 "nbformat_minor": 4
}

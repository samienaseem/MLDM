{
 "cells": [
  {
   "cell_type": "code",
   "execution_count": 1,
   "id": "fcf73296-847a-49da-aa5d-ba097aae7c30",
   "metadata": {},
   "outputs": [],
   "source": [
    "import numpy as np\n",
    "import pickle\n",
    "from sklearn.naive_bayes import MultinomialNB, GaussianNB, BernoulliNB\n",
    "import matplotlib.pyplot as plt\n",
    "from sklearn.metrics import confusion_matrix\n",
    "import math\n",
    "import os\n",
    "import numpy as np\n",
    "import collections\n",
    "import pickle\n",
    "from pandas import read_csv\n",
    "from matplotlib import pyplot\n",
    "from sklearn.model_selection import train_test_split\n",
    "from sklearn.model_selection import cross_val_score\n",
    "from sklearn.model_selection import StratifiedKFold\n",
    "DICT_SIZE = 500"
   ]
  },
  {
   "cell_type": "code",
   "execution_count": 13,
   "id": "29ebce3b-5048-44e9-9d33-83c7203f6f56",
   "metadata": {},
   "outputs": [],
   "source": [
    "emails=''"
   ]
  },
  {
   "cell_type": "code",
   "execution_count": 22,
   "id": "a1d90ea3-9b26-46d8-8f00-d7436eb97676",
   "metadata": {},
   "outputs": [
    {
     "ename": "SyntaxError",
     "evalue": "Missing parentheses in call to 'print'. Did you mean print(...)? (1001207740.py, line 3)",
     "output_type": "error",
     "traceback": [
      "\u001b[0;36m  Cell \u001b[0;32mIn[22], line 3\u001b[0;36m\u001b[0m\n\u001b[0;31m    print emails\u001b[0m\n\u001b[0m    ^\u001b[0m\n\u001b[0;31mSyntaxError\u001b[0m\u001b[0;31m:\u001b[0m Missing parentheses in call to 'print'. Did you mean print(...)?\n"
     ]
    }
   ],
   "source": [
    "def get_dictionary(mail_dir):\n",
    "    emails = [os.path.join(mail_dir,f) for f in os.listdir(mail_dir)]\n",
    "    print emails"
   ]
  },
  {
   "cell_type": "code",
   "execution_count": 15,
   "id": "f452a992-f49c-4829-8864-7db9a6e85489",
   "metadata": {},
   "outputs": [],
   "source": [
    "all_words = get_dictionary('Ling_spam_data')"
   ]
  },
  {
   "cell_type": "code",
   "execution_count": 16,
   "id": "3d06a552-38fc-4746-b119-36cffe8544a2",
   "metadata": {},
   "outputs": [
    {
     "data": {
      "text/plain": [
       "''"
      ]
     },
     "execution_count": 16,
     "metadata": {},
     "output_type": "execute_result"
    }
   ],
   "source": [
    "emails\n"
   ]
  },
  {
   "cell_type": "code",
   "execution_count": null,
   "id": "42dbd523-ca09-4910-ae6c-40b72b31f199",
   "metadata": {},
   "outputs": [],
   "source": []
  }
 ],
 "metadata": {
  "kernelspec": {
   "display_name": "Python 3 (ipykernel)",
   "language": "python",
   "name": "python3"
  },
  "language_info": {
   "codemirror_mode": {
    "name": "ipython",
    "version": 3
   },
   "file_extension": ".py",
   "mimetype": "text/x-python",
   "name": "python",
   "nbconvert_exporter": "python",
   "pygments_lexer": "ipython3",
   "version": "3.11.5"
  }
 },
 "nbformat": 4,
 "nbformat_minor": 5
}

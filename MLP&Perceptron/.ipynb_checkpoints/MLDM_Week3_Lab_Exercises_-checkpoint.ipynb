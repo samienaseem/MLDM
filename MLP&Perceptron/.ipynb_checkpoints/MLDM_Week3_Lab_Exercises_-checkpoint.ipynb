{
 "cells": [
  {
   "cell_type": "markdown",
   "metadata": {
    "_uuid": "c7e803bcb692553a80f9fdded4c1a4f9a7897428"
   },
   "source": [
    "# MLDM Lab week 3: Neural Networks - Perceptron and Multi-Layer Perceptron (MLP)"
   ]
  },
  {
   "cell_type": "markdown",
   "metadata": {},
   "source": [
    "<h3> <font color=\"blue\"> Introduction </h3>\n",
    "\n",
    "In this lab session, we explore Perceptron and Multi-Layer Perceptron (MLP) using `sklearn`.\n",
    "\n",
    "We revisit the Iris and the Breast Cancer datasets from previous lab sessions and train Perceptron and MLP classifiers using these datasets. Please see the information regarding these datasets from previous two lab sessions."
   ]
  },
  {
   "cell_type": "markdown",
   "metadata": {
    "_uuid": "da9c6cd47b5c79bed433cc47618a56837322db5d"
   },
   "source": [
    "<h3> <font color=\"blue\"> Lab goals</font> </h3>\n",
    "<p> 1.  Learn how to create and use a Perceptron. </p>\n",
    "<p> 2.  Learn how to create and use a MLP. </p>\n",
    "<p> 3.  Learn how to create ROC curves to evaluate and compare models. </p>"
   ]
  },
  {
   "cell_type": "markdown",
   "metadata": {},
   "source": [
    "## <font color=\"blue\"> Training and evaluating a Perceptron \n",
    "In this experiment we re-visit the Iris dataset, however, instead of loading the dataset from a file or url, we load the dataset directly from the scikit-learn datasets. In this dataset, the third column represents the petal length, and the fourth column the petal width of the flower examples and the classes are already converted to integer labels where 0=Iris-Setosa, 1=Iris-Versicolor, 2=Iris-Virginica."
   ]
  },
  {
   "cell_type": "code",
   "execution_count": 1,
   "metadata": {},
   "outputs": [
    {
     "name": "stdout",
     "output_type": "stream",
     "text": [
      "Class labels: [0 1 2]\n"
     ]
    }
   ],
   "source": [
    "from sklearn import datasets\n",
    "import numpy as np\n",
    "\n",
    "iris = datasets.load_iris()\n",
    "X = iris.data[:, [2, 3]]\n",
    "y = iris.target\n",
    "\n",
    "print('Class labels:', np.unique(y))"
   ]
  },
  {
   "cell_type": "markdown",
   "metadata": {},
   "source": [
    "Preparing the training and test data by splitting the main dataset into 70% training and 30% test stes:"
   ]
  },
  {
   "cell_type": "code",
   "execution_count": 2,
   "metadata": {},
   "outputs": [],
   "source": [
    "from sklearn.model_selection import train_test_split\n",
    "\n",
    "X_train, X_test, y_train, y_test = train_test_split(\n",
    "    X, y, test_size=0.3, random_state=1, stratify=y)"
   ]
  },
  {
   "cell_type": "code",
   "execution_count": 3,
   "metadata": {},
   "outputs": [
    {
     "name": "stdout",
     "output_type": "stream",
     "text": [
      "Labels counts in y: [50 50 50]\n",
      "Labels counts in y_train: [35 35 35]\n",
      "Labels counts in y_test: [15 15 15]\n"
     ]
    }
   ],
   "source": [
    "print('Labels counts in y:', np.bincount(y))\n",
    "print('Labels counts in y_train:', np.bincount(y_train))\n",
    "print('Labels counts in y_test:', np.bincount(y_test))"
   ]
  },
  {
   "cell_type": "markdown",
   "metadata": {},
   "source": [
    "The features can be standardised using the `StandardScaler`. See <a href=\"https://scikit-learn.org/stable/modules/generated/sklearn.preprocessing.StandardScaler.html\">`class sklearn.preprocessing.StandardScaler`</a> for more details."
   ]
  },
  {
   "cell_type": "code",
   "execution_count": 4,
   "metadata": {},
   "outputs": [],
   "source": [
    "from sklearn.preprocessing import StandardScaler\n",
    "\n",
    "sc = StandardScaler()\n",
    "sc.fit(X_train)\n",
    "X_train_std = sc.transform(X_train)\n",
    "X_test_std = sc.transform(X_test)"
   ]
  },
  {
   "cell_type": "markdown",
   "metadata": {},
   "source": [
    "### <font color=\"blue\"> Training a Perceptron \n",
    "    \n",
    "We train a Perceptron on the Iris dataset. In the first experiment we use simple and basic parameters. \n",
    "    \n",
    "More information about Perceptron parameters can be found from <a href=\"https://scikit-learn.org/stable/modules/generated/sklearn.linear_model.Perceptron.html\"> `sklearn.linear_model.Perceptron` </a>."
   ]
  },
  {
   "cell_type": "code",
   "execution_count": 5,
   "metadata": {},
   "outputs": [
    {
     "data": {
      "text/html": [
       "<style>#sk-container-id-1 {color: black;background-color: white;}#sk-container-id-1 pre{padding: 0;}#sk-container-id-1 div.sk-toggleable {background-color: white;}#sk-container-id-1 label.sk-toggleable__label {cursor: pointer;display: block;width: 100%;margin-bottom: 0;padding: 0.3em;box-sizing: border-box;text-align: center;}#sk-container-id-1 label.sk-toggleable__label-arrow:before {content: \"▸\";float: left;margin-right: 0.25em;color: #696969;}#sk-container-id-1 label.sk-toggleable__label-arrow:hover:before {color: black;}#sk-container-id-1 div.sk-estimator:hover label.sk-toggleable__label-arrow:before {color: black;}#sk-container-id-1 div.sk-toggleable__content {max-height: 0;max-width: 0;overflow: hidden;text-align: left;background-color: #f0f8ff;}#sk-container-id-1 div.sk-toggleable__content pre {margin: 0.2em;color: black;border-radius: 0.25em;background-color: #f0f8ff;}#sk-container-id-1 input.sk-toggleable__control:checked~div.sk-toggleable__content {max-height: 200px;max-width: 100%;overflow: auto;}#sk-container-id-1 input.sk-toggleable__control:checked~label.sk-toggleable__label-arrow:before {content: \"▾\";}#sk-container-id-1 div.sk-estimator input.sk-toggleable__control:checked~label.sk-toggleable__label {background-color: #d4ebff;}#sk-container-id-1 div.sk-label input.sk-toggleable__control:checked~label.sk-toggleable__label {background-color: #d4ebff;}#sk-container-id-1 input.sk-hidden--visually {border: 0;clip: rect(1px 1px 1px 1px);clip: rect(1px, 1px, 1px, 1px);height: 1px;margin: -1px;overflow: hidden;padding: 0;position: absolute;width: 1px;}#sk-container-id-1 div.sk-estimator {font-family: monospace;background-color: #f0f8ff;border: 1px dotted black;border-radius: 0.25em;box-sizing: border-box;margin-bottom: 0.5em;}#sk-container-id-1 div.sk-estimator:hover {background-color: #d4ebff;}#sk-container-id-1 div.sk-parallel-item::after {content: \"\";width: 100%;border-bottom: 1px solid gray;flex-grow: 1;}#sk-container-id-1 div.sk-label:hover label.sk-toggleable__label {background-color: #d4ebff;}#sk-container-id-1 div.sk-serial::before {content: \"\";position: absolute;border-left: 1px solid gray;box-sizing: border-box;top: 0;bottom: 0;left: 50%;z-index: 0;}#sk-container-id-1 div.sk-serial {display: flex;flex-direction: column;align-items: center;background-color: white;padding-right: 0.2em;padding-left: 0.2em;position: relative;}#sk-container-id-1 div.sk-item {position: relative;z-index: 1;}#sk-container-id-1 div.sk-parallel {display: flex;align-items: stretch;justify-content: center;background-color: white;position: relative;}#sk-container-id-1 div.sk-item::before, #sk-container-id-1 div.sk-parallel-item::before {content: \"\";position: absolute;border-left: 1px solid gray;box-sizing: border-box;top: 0;bottom: 0;left: 50%;z-index: -1;}#sk-container-id-1 div.sk-parallel-item {display: flex;flex-direction: column;z-index: 1;position: relative;background-color: white;}#sk-container-id-1 div.sk-parallel-item:first-child::after {align-self: flex-end;width: 50%;}#sk-container-id-1 div.sk-parallel-item:last-child::after {align-self: flex-start;width: 50%;}#sk-container-id-1 div.sk-parallel-item:only-child::after {width: 0;}#sk-container-id-1 div.sk-dashed-wrapped {border: 1px dashed gray;margin: 0 0.4em 0.5em 0.4em;box-sizing: border-box;padding-bottom: 0.4em;background-color: white;}#sk-container-id-1 div.sk-label label {font-family: monospace;font-weight: bold;display: inline-block;line-height: 1.2em;}#sk-container-id-1 div.sk-label-container {text-align: center;}#sk-container-id-1 div.sk-container {/* jupyter's `normalize.less` sets `[hidden] { display: none; }` but bootstrap.min.css set `[hidden] { display: none !important; }` so we also need the `!important` here to be able to override the default hidden behavior on the sphinx rendered scikit-learn.org. See: https://github.com/scikit-learn/scikit-learn/issues/21755 */display: inline-block !important;position: relative;}#sk-container-id-1 div.sk-text-repr-fallback {display: none;}</style><div id=\"sk-container-id-1\" class=\"sk-top-container\"><div class=\"sk-text-repr-fallback\"><pre>Perceptron(eta0=0.1, random_state=1)</pre><b>In a Jupyter environment, please rerun this cell to show the HTML representation or trust the notebook. <br />On GitHub, the HTML representation is unable to render, please try loading this page with nbviewer.org.</b></div><div class=\"sk-container\" hidden><div class=\"sk-item\"><div class=\"sk-estimator sk-toggleable\"><input class=\"sk-toggleable__control sk-hidden--visually\" id=\"sk-estimator-id-1\" type=\"checkbox\" checked><label for=\"sk-estimator-id-1\" class=\"sk-toggleable__label sk-toggleable__label-arrow\">Perceptron</label><div class=\"sk-toggleable__content\"><pre>Perceptron(eta0=0.1, random_state=1)</pre></div></div></div></div></div>"
      ],
      "text/plain": [
       "Perceptron(eta0=0.1, random_state=1)"
      ]
     },
     "execution_count": 5,
     "metadata": {},
     "output_type": "execute_result"
    }
   ],
   "source": [
    "from sklearn.linear_model import Perceptron\n",
    "from sklearn.metrics import accuracy_score\n",
    "\n",
    "ppn = Perceptron(eta0=0.1, random_state=1)\n",
    "ppn.fit(X_train_std, y_train)"
   ]
  },
  {
   "cell_type": "markdown",
   "metadata": {},
   "source": [
    "**Note** You can replace `Perceptron(n_iter, ...)` by `Perceptron(max_iter, ...)` in scikit-learn >= 0.19. The `n_iter` parameter is used here deriberately, because some people still use scikit-learn 0.18."
   ]
  },
  {
   "cell_type": "code",
   "execution_count": 6,
   "metadata": {},
   "outputs": [
    {
     "name": "stdout",
     "output_type": "stream",
     "text": [
      "Misclassified examples: 1\n"
     ]
    }
   ],
   "source": [
    "y_pred = ppn.predict(X_test_std)\n",
    "print('Misclassified examples: %d' % (y_test != y_pred).sum())"
   ]
  },
  {
   "cell_type": "code",
   "execution_count": 7,
   "metadata": {},
   "outputs": [
    {
     "name": "stdout",
     "output_type": "stream",
     "text": [
      "Accuracy(test set): 0.978\n",
      "Accuracy (standardised test set): 0.978\n"
     ]
    }
   ],
   "source": [
    "print('Accuracy(test set): %.3f' % accuracy_score(y_test, y_pred))\n",
    "print('Accuracy (standardised test set): %.3f' % ppn.score(X_test_std, y_test))"
   ]
  },
  {
   "cell_type": "markdown",
   "metadata": {},
   "source": [
    "## <font color=\"blue\"> Training and evaluating a Multi-Layer Perceptron (MLP)\n",
    "In this experiment we re-visit the breast cancer dataset, however, instead of loading the dataset from scikit-learn datasets, we load the dataset from a csv file. Please download (and unzip) the breast cancer dataset from SurreyLearn and copy the file 'breast_cancer_data.csv' into your Jupyter working directory."
   ]
  },
  {
   "cell_type": "code",
   "execution_count": 26,
   "metadata": {
    "_uuid": "614080eef877a8cc3f436522abe889a14958d4dc"
   },
   "outputs": [
    {
     "name": "stdout",
     "output_type": "stream",
     "text": [
      "(569, 30)\n"
     ]
    }
   ],
   "source": [
    "import pandas as pd\n",
    "breast_cancer = pd.read_csv('breast_cancer.csv')\n",
    "# Dataset Shape\n",
    "print(breast_cancer.shape)"
   ]
  },
  {
   "cell_type": "code",
   "execution_count": 27,
   "metadata": {},
   "outputs": [
    {
     "data": {
      "text/html": [
       "<div>\n",
       "<style scoped>\n",
       "    .dataframe tbody tr th:only-of-type {\n",
       "        vertical-align: middle;\n",
       "    }\n",
       "\n",
       "    .dataframe tbody tr th {\n",
       "        vertical-align: top;\n",
       "    }\n",
       "\n",
       "    .dataframe thead th {\n",
       "        text-align: right;\n",
       "    }\n",
       "</style>\n",
       "<table border=\"1\" class=\"dataframe\">\n",
       "  <thead>\n",
       "    <tr style=\"text-align: right;\">\n",
       "      <th></th>\n",
       "      <th>mean radius</th>\n",
       "      <th>mean texture</th>\n",
       "      <th>mean perimeter</th>\n",
       "      <th>mean area</th>\n",
       "      <th>mean smoothness</th>\n",
       "      <th>mean compactness</th>\n",
       "      <th>mean concavity</th>\n",
       "      <th>mean concave points</th>\n",
       "      <th>mean symmetry</th>\n",
       "      <th>mean fractal dimension</th>\n",
       "      <th>...</th>\n",
       "      <th>worst radius</th>\n",
       "      <th>worst texture</th>\n",
       "      <th>worst perimeter</th>\n",
       "      <th>worst area</th>\n",
       "      <th>worst smoothness</th>\n",
       "      <th>worst compactness</th>\n",
       "      <th>worst concavity</th>\n",
       "      <th>worst concave points</th>\n",
       "      <th>worst symmetry</th>\n",
       "      <th>worst fractal dimension</th>\n",
       "    </tr>\n",
       "  </thead>\n",
       "  <tbody>\n",
       "    <tr>\n",
       "      <th>0</th>\n",
       "      <td>17.99</td>\n",
       "      <td>10.38</td>\n",
       "      <td>122.80</td>\n",
       "      <td>1001.0</td>\n",
       "      <td>0.11840</td>\n",
       "      <td>0.27760</td>\n",
       "      <td>0.3001</td>\n",
       "      <td>0.14710</td>\n",
       "      <td>0.2419</td>\n",
       "      <td>0.07871</td>\n",
       "      <td>...</td>\n",
       "      <td>25.38</td>\n",
       "      <td>17.33</td>\n",
       "      <td>184.60</td>\n",
       "      <td>2019.0</td>\n",
       "      <td>0.1622</td>\n",
       "      <td>0.6656</td>\n",
       "      <td>0.7119</td>\n",
       "      <td>0.2654</td>\n",
       "      <td>0.4601</td>\n",
       "      <td>0.11890</td>\n",
       "    </tr>\n",
       "    <tr>\n",
       "      <th>1</th>\n",
       "      <td>20.57</td>\n",
       "      <td>17.77</td>\n",
       "      <td>132.90</td>\n",
       "      <td>1326.0</td>\n",
       "      <td>0.08474</td>\n",
       "      <td>0.07864</td>\n",
       "      <td>0.0869</td>\n",
       "      <td>0.07017</td>\n",
       "      <td>0.1812</td>\n",
       "      <td>0.05667</td>\n",
       "      <td>...</td>\n",
       "      <td>24.99</td>\n",
       "      <td>23.41</td>\n",
       "      <td>158.80</td>\n",
       "      <td>1956.0</td>\n",
       "      <td>0.1238</td>\n",
       "      <td>0.1866</td>\n",
       "      <td>0.2416</td>\n",
       "      <td>0.1860</td>\n",
       "      <td>0.2750</td>\n",
       "      <td>0.08902</td>\n",
       "    </tr>\n",
       "    <tr>\n",
       "      <th>2</th>\n",
       "      <td>19.69</td>\n",
       "      <td>21.25</td>\n",
       "      <td>130.00</td>\n",
       "      <td>1203.0</td>\n",
       "      <td>0.10960</td>\n",
       "      <td>0.15990</td>\n",
       "      <td>0.1974</td>\n",
       "      <td>0.12790</td>\n",
       "      <td>0.2069</td>\n",
       "      <td>0.05999</td>\n",
       "      <td>...</td>\n",
       "      <td>23.57</td>\n",
       "      <td>25.53</td>\n",
       "      <td>152.50</td>\n",
       "      <td>1709.0</td>\n",
       "      <td>0.1444</td>\n",
       "      <td>0.4245</td>\n",
       "      <td>0.4504</td>\n",
       "      <td>0.2430</td>\n",
       "      <td>0.3613</td>\n",
       "      <td>0.08758</td>\n",
       "    </tr>\n",
       "    <tr>\n",
       "      <th>3</th>\n",
       "      <td>11.42</td>\n",
       "      <td>20.38</td>\n",
       "      <td>77.58</td>\n",
       "      <td>386.1</td>\n",
       "      <td>0.14250</td>\n",
       "      <td>0.28390</td>\n",
       "      <td>0.2414</td>\n",
       "      <td>0.10520</td>\n",
       "      <td>0.2597</td>\n",
       "      <td>0.09744</td>\n",
       "      <td>...</td>\n",
       "      <td>14.91</td>\n",
       "      <td>26.50</td>\n",
       "      <td>98.87</td>\n",
       "      <td>567.7</td>\n",
       "      <td>0.2098</td>\n",
       "      <td>0.8663</td>\n",
       "      <td>0.6869</td>\n",
       "      <td>0.2575</td>\n",
       "      <td>0.6638</td>\n",
       "      <td>0.17300</td>\n",
       "    </tr>\n",
       "    <tr>\n",
       "      <th>4</th>\n",
       "      <td>20.29</td>\n",
       "      <td>14.34</td>\n",
       "      <td>135.10</td>\n",
       "      <td>1297.0</td>\n",
       "      <td>0.10030</td>\n",
       "      <td>0.13280</td>\n",
       "      <td>0.1980</td>\n",
       "      <td>0.10430</td>\n",
       "      <td>0.1809</td>\n",
       "      <td>0.05883</td>\n",
       "      <td>...</td>\n",
       "      <td>22.54</td>\n",
       "      <td>16.67</td>\n",
       "      <td>152.20</td>\n",
       "      <td>1575.0</td>\n",
       "      <td>0.1374</td>\n",
       "      <td>0.2050</td>\n",
       "      <td>0.4000</td>\n",
       "      <td>0.1625</td>\n",
       "      <td>0.2364</td>\n",
       "      <td>0.07678</td>\n",
       "    </tr>\n",
       "  </tbody>\n",
       "</table>\n",
       "<p>5 rows × 30 columns</p>\n",
       "</div>"
      ],
      "text/plain": [
       "   mean radius  mean texture  mean perimeter  mean area  mean smoothness  \\\n",
       "0        17.99         10.38          122.80     1001.0          0.11840   \n",
       "1        20.57         17.77          132.90     1326.0          0.08474   \n",
       "2        19.69         21.25          130.00     1203.0          0.10960   \n",
       "3        11.42         20.38           77.58      386.1          0.14250   \n",
       "4        20.29         14.34          135.10     1297.0          0.10030   \n",
       "\n",
       "   mean compactness  mean concavity  mean concave points  mean symmetry  \\\n",
       "0           0.27760          0.3001              0.14710         0.2419   \n",
       "1           0.07864          0.0869              0.07017         0.1812   \n",
       "2           0.15990          0.1974              0.12790         0.2069   \n",
       "3           0.28390          0.2414              0.10520         0.2597   \n",
       "4           0.13280          0.1980              0.10430         0.1809   \n",
       "\n",
       "   mean fractal dimension  ...  worst radius  worst texture  worst perimeter  \\\n",
       "0                 0.07871  ...         25.38          17.33           184.60   \n",
       "1                 0.05667  ...         24.99          23.41           158.80   \n",
       "2                 0.05999  ...         23.57          25.53           152.50   \n",
       "3                 0.09744  ...         14.91          26.50            98.87   \n",
       "4                 0.05883  ...         22.54          16.67           152.20   \n",
       "\n",
       "   worst area  worst smoothness  worst compactness  worst concavity  \\\n",
       "0      2019.0            0.1622             0.6656           0.7119   \n",
       "1      1956.0            0.1238             0.1866           0.2416   \n",
       "2      1709.0            0.1444             0.4245           0.4504   \n",
       "3       567.7            0.2098             0.8663           0.6869   \n",
       "4      1575.0            0.1374             0.2050           0.4000   \n",
       "\n",
       "   worst concave points  worst symmetry  worst fractal dimension  \n",
       "0                0.2654          0.4601                  0.11890  \n",
       "1                0.1860          0.2750                  0.08902  \n",
       "2                0.2430          0.3613                  0.08758  \n",
       "3                0.2575          0.6638                  0.17300  \n",
       "4                0.1625          0.2364                  0.07678  \n",
       "\n",
       "[5 rows x 30 columns]"
      ]
     },
     "execution_count": 27,
     "metadata": {},
     "output_type": "execute_result"
    }
   ],
   "source": [
    "# First Few Columns and Head Details\n",
    "breast_cancer.head()"
   ]
  },
  {
   "cell_type": "markdown",
   "metadata": {
    "_uuid": "a06977de599e1a2094e6d0b74f7e0c7ceef02165"
   },
   "source": [
    "<p> We need to specify the features which are used for machine learning. We need to remove the features which should be excluded, e.g. ID. We also need to specify the target feature, i.e. diagnosis class.\n",
    "    Feature Engineering is the way of extracting features from data and transforming them into formats that are suitable for Machine Learning algorithms.</p> Here we are going to remove certain unwanted features."
   ]
  },
  {
   "cell_type": "code",
   "execution_count": null,
   "metadata": {
    "_uuid": "438a3421517af2feab182ceca38e2396bb10f05e"
   },
   "outputs": [],
   "source": [
    "# Features \"id\" and \"Unnamed: 32\" should be removed\n",
    "feature_names = breast_cancer.columns[2:-1]\n",
    "X = breast_cancer[feature_names]\n",
    "# the target feature, i.e. diagnosis class\n",
    "y = breast_cancer.diagnosis"
   ]
  },
  {
   "cell_type": "markdown",
   "metadata": {
    "_uuid": "ed083f7eaec1b4389b74fca255d68bc9930ab23b"
   },
   "source": [
    "<p>The traget feature in this dataset is included as a text value so it should be converted into a numerical value.</p>"
   ]
  },
  {
   "cell_type": "code",
   "execution_count": null,
   "metadata": {
    "_uuid": "4a9999cf49909c36cc65261cd345776b02a407b6"
   },
   "outputs": [],
   "source": [
    "from sklearn.preprocessing import LabelEncoder\n",
    "class_le = LabelEncoder()\n",
    "# M -> 1 and B -> 0\n",
    "y = class_le.fit_transform(breast_cancer.diagnosis.values)"
   ]
  },
  {
   "cell_type": "code",
   "execution_count": null,
   "metadata": {},
   "outputs": [],
   "source": [
    "breast_cancer[feature_names]"
   ]
  },
  {
   "cell_type": "markdown",
   "metadata": {
    "_uuid": "1edc4bd8a9f5feaabff05088ef522a447ee666f2"
   },
   "source": [
    "### <font color=\"blue\"> Training a Multi-Layer Perceptron (MLP)\n",
    "We train a Multi-Layer Perceptron (MLP) on the breast cancer dataset. In the first experiment we use simple parameters which we will try to optimise later. \n",
    "    \n",
    "More information about MLP parameters can be found from <a href=\"https://scikit-learn.org/stable/modules/generated/sklearn.neural_network.MLPClassifier.html\"> `sklearn.neural_network.MLPClassifier` </a>."
   ]
  },
  {
   "cell_type": "code",
   "execution_count": 12,
   "metadata": {},
   "outputs": [],
   "source": [
    "import warnings\n",
    "warnings.filterwarnings('ignore')"
   ]
  },
  {
   "cell_type": "code",
   "execution_count": 13,
   "metadata": {},
   "outputs": [
    {
     "name": "stdout",
     "output_type": "stream",
     "text": [
      "acc for training data: 0.366\n",
      "acc for test data: 0.237\n",
      "MLP Classification report:\n",
      "\n",
      "               precision    recall  f1-score   support\n",
      "\n",
      "           0       0.00      0.00      0.00        13\n",
      "           1       0.00      0.00      0.00        16\n",
      "           2       0.24      1.00      0.38         9\n",
      "\n",
      "    accuracy                           0.24        38\n",
      "   macro avg       0.08      0.33      0.13        38\n",
      "weighted avg       0.06      0.24      0.09        38\n",
      "\n"
     ]
    }
   ],
   "source": [
    "# Training and testing data preperation.\n",
    "from sklearn.model_selection import train_test_split\n",
    "from sklearn.metrics import accuracy_score, confusion_matrix, roc_curve, roc_auc_score, classification_report\n",
    "X_train, X_test, y_train, y_test = train_test_split(X, y, random_state=0)\n",
    "\n",
    "# Initializing the classifier\n",
    "from sklearn.neural_network import MLPClassifier\n",
    "clf = MLPClassifier(random_state=0, activation='logistic', hidden_layer_sizes=(5,), solver='adam', max_iter=100)\n",
    "clf.fit(X_train, y_train)\n",
    "clf_predict = clf.predict(X_test)\n",
    "# Accuracy factors\n",
    "print('acc for training data: {:.3f}'.format(clf.score(X_train, y_train)))\n",
    "print('acc for test data: {:.3f}'.format(clf.score(X_test, y_test)))\n",
    "print('MLP Classification report:\\n\\n', classification_report(y_test, clf_predict))"
   ]
  },
  {
   "cell_type": "markdown",
   "metadata": {},
   "source": [
    "We can improve the accuracy of the MLP by tuning the parameters, e.g. increasing the 'hidden_layer_sizes' or 'max_iter'. Below we increase hidden_layer_sizes from 5 to 10."
   ]
  },
  {
   "cell_type": "code",
   "execution_count": 14,
   "metadata": {},
   "outputs": [
    {
     "name": "stdout",
     "output_type": "stream",
     "text": [
      "acc for training data: 0.366\n",
      "acc for test data: 0.237\n",
      "MLP Classification report:\n",
      "\n",
      "               precision    recall  f1-score   support\n",
      "\n",
      "           0       0.00      0.00      0.00        13\n",
      "           1       0.00      0.00      0.00        16\n",
      "           2       0.24      1.00      0.38         9\n",
      "\n",
      "    accuracy                           0.24        38\n",
      "   macro avg       0.08      0.33      0.13        38\n",
      "weighted avg       0.06      0.24      0.09        38\n",
      "\n"
     ]
    }
   ],
   "source": [
    "clf = MLPClassifier(random_state=0, activation='logistic', solver='adam', hidden_layer_sizes=(10,), max_iter=100)\n",
    "clf.fit(X_train, y_train)\n",
    "clf_predict = clf.predict(X_test)\n",
    "\n",
    "# Accuracy factors\n",
    "print('acc for training data: {:.3f}'.format(clf.score(X_train, y_train)))\n",
    "print('acc for test data: {:.3f}'.format(clf.score(X_test, y_test)))\n",
    "print('MLP Classification report:\\n\\n', classification_report(y_test, clf_predict))"
   ]
  },
  {
   "cell_type": "markdown",
   "metadata": {},
   "source": [
    "<h3><font color=\"red\">Exercise 1 </font> </h3>\n",
    "<p>Repeat the experiment above and try to further improve the accuracy of the MLP by increasing 'max_iter'</p>\n",
    "\n",
    "<p>Use the code cell below to write your code for Excercise 1</p>"
   ]
  },
  {
   "cell_type": "code",
   "execution_count": 20,
   "metadata": {},
   "outputs": [
    {
     "name": "stdout",
     "output_type": "stream",
     "text": [
      "----------------------When max_iter:  1000 -----------------------\n",
      "\n",
      "Accuracy for training data: 0.946\n",
      "Accuracy for test data: 0.921\n",
      "MLP Classification report:\n",
      "\n",
      "               precision    recall  f1-score   support\n",
      "\n",
      "           0       1.00      1.00      1.00        13\n",
      "           1       1.00      0.81      0.90        16\n",
      "           2       0.75      1.00      0.86         9\n",
      "\n",
      "    accuracy                           0.92        38\n",
      "   macro avg       0.92      0.94      0.92        38\n",
      "weighted avg       0.94      0.92      0.92        38\n",
      "\n",
      "---------------------------------------------------------------------\n",
      "----------------------When max_iter:  5000 -----------------------\n",
      "\n",
      "Accuracy for training data: 0.964\n",
      "Accuracy for test data: 0.947\n",
      "MLP Classification report:\n",
      "\n",
      "               precision    recall  f1-score   support\n",
      "\n",
      "           0       1.00      1.00      1.00        13\n",
      "           1       0.94      0.94      0.94        16\n",
      "           2       0.89      0.89      0.89         9\n",
      "\n",
      "    accuracy                           0.95        38\n",
      "   macro avg       0.94      0.94      0.94        38\n",
      "weighted avg       0.95      0.95      0.95        38\n",
      "\n",
      "---------------------------------------------------------------------\n",
      "----------------------When max_iter:  10000 -----------------------\n",
      "\n",
      "Accuracy for training data: 0.964\n",
      "Accuracy for test data: 0.947\n",
      "MLP Classification report:\n",
      "\n",
      "               precision    recall  f1-score   support\n",
      "\n",
      "           0       1.00      1.00      1.00        13\n",
      "           1       0.94      0.94      0.94        16\n",
      "           2       0.89      0.89      0.89         9\n",
      "\n",
      "    accuracy                           0.95        38\n",
      "   macro avg       0.94      0.94      0.94        38\n",
      "weighted avg       0.95      0.95      0.95        38\n",
      "\n",
      "---------------------------------------------------------------------\n",
      "----------------------When max_iter:  15000 -----------------------\n",
      "\n",
      "Accuracy for training data: 0.964\n",
      "Accuracy for test data: 0.947\n",
      "MLP Classification report:\n",
      "\n",
      "               precision    recall  f1-score   support\n",
      "\n",
      "           0       1.00      1.00      1.00        13\n",
      "           1       0.94      0.94      0.94        16\n",
      "           2       0.89      0.89      0.89         9\n",
      "\n",
      "    accuracy                           0.95        38\n",
      "   macro avg       0.94      0.94      0.94        38\n",
      "weighted avg       0.95      0.95      0.95        38\n",
      "\n",
      "---------------------------------------------------------------------\n",
      "----------------------When max_iter:  100000 -----------------------\n",
      "\n",
      "Accuracy for training data: 0.964\n",
      "Accuracy for test data: 0.947\n",
      "MLP Classification report:\n",
      "\n",
      "               precision    recall  f1-score   support\n",
      "\n",
      "           0       1.00      1.00      1.00        13\n",
      "           1       0.94      0.94      0.94        16\n",
      "           2       0.89      0.89      0.89         9\n",
      "\n",
      "    accuracy                           0.95        38\n",
      "   macro avg       0.94      0.94      0.94        38\n",
      "weighted avg       0.95      0.95      0.95        38\n",
      "\n",
      "---------------------------------------------------------------------\n"
     ]
    }
   ],
   "source": [
    "# Answer to Exercise 1\n",
    "from sklearn.neural_network import MLPClassifier\n",
    "from sklearn.metrics import classification_report\n",
    "\n",
    "iter=[1000,5000,10000,15000,100000]\n",
    "\n",
    "# Initialize the classifier\n",
    "for i in iter:\n",
    "    clf = MLPClassifier(random_state=0, activation='logistic', solver='adam', hidden_layer_sizes=(10,), max_iter=i)\n",
    "    \n",
    "    # Train the classifier\n",
    "    clf.fit(X_train, y_train)\n",
    "    \n",
    "    # Predict using the trained classifier\n",
    "    clf_predict = clf.predict(X_test)\n",
    "    \n",
    "    # Print accuracy metrics\n",
    "    print('----------------------When max_iter: ', i,\"-----------------------\\n\")\n",
    "    print('Accuracy for training data: {:.3f}'.format(clf.score(X_train, y_train)))\n",
    "    print('Accuracy for test data: {:.3f}'.format(clf.score(X_test, y_test)))\n",
    "    print('MLP Classification report:\\n\\n', classification_report(y_test, clf_predict))\n",
    "    print(\"---------------------------------------------------------------------\")\n",
    "    \n",
    "\n"
   ]
  },
  {
   "cell_type": "markdown",
   "metadata": {},
   "source": [
    "<h3><font color=\"red\">Exercise 2 </font> </h3>\n",
    "<p>Repeat the experiment above using a Perceptron on the breast cancer dataset and compare the accuracy with the results from MLP.</p>\n",
    "\n",
    "<p>Use the code cell below to write your code for Excercise 2</p>"
   ]
  },
  {
   "cell_type": "code",
   "execution_count": 30,
   "metadata": {},
   "outputs": [
    {
     "name": "stdout",
     "output_type": "stream",
     "text": [
      "Perceptron Test \n",
      "\n",
      "Perceptron accuracy for training data: 0.589\n",
      "Perceptron accuracy for test data: 0.649\n",
      "Perceptron Classification report:\n",
      "\n",
      "               precision    recall  f1-score   support\n",
      "\n",
      "           0       0.54      1.00      0.70        47\n",
      "           1       1.00      0.40      0.57        67\n",
      "\n",
      "    accuracy                           0.65       114\n",
      "   macro avg       0.77      0.70      0.64       114\n",
      "weighted avg       0.81      0.65      0.63       114\n",
      "\n",
      "---------------------------------------------------------------------\n",
      "Multi Layer Perceptron Test \n",
      "\n",
      "Accuracy for training data: 0.941\n",
      "Accuracy for test data: 0.947\n",
      "MLP Classification report:\n",
      "\n",
      "               precision    recall  f1-score   support\n",
      "\n",
      "           0       0.94      0.94      0.94        47\n",
      "           1       0.96      0.96      0.96        67\n",
      "\n",
      "    accuracy                           0.95       114\n",
      "   macro avg       0.95      0.95      0.95       114\n",
      "weighted avg       0.95      0.95      0.95       114\n",
      "\n",
      "---------------------------------------------------------------------\n",
      "\n"
     ]
    }
   ],
   "source": [
    "# Answer to Exercise 2\n",
    "from sklearn.linear_model import Perceptron\n",
    "from sklearn.metrics import classification_report\n",
    "from sklearn.model_selection import train_test_split\n",
    "from sklearn.datasets import load_breast_cancer\n",
    "from sklearn.neural_network import MLPClassifier\n",
    "\n",
    "# Load breast cancer dataset\n",
    "data = load_breast_cancer()\n",
    "X = data.data\n",
    "y = data.target\n",
    "\n",
    "# Split the data into training and test sets\n",
    "X_train, X_test, y_train, y_test = train_test_split(X, y, test_size=0.2, random_state=0)\n",
    "\n",
    "model=[\"Perceptron\",\"MLP\"]\n",
    "train_accuracies = []\n",
    "test_accuracies = []\n",
    "\n",
    "# Perceptron experiment\n",
    "perceptron_clf = Perceptron(random_state=0, max_iter=1000)  # You can adjust max_iter as needed\n",
    "perceptron_clf.fit(X_train, y_train)\n",
    "perceptron_predict = perceptron_clf.predict(X_test)\n",
    "\n",
    "# Accuracy factors for Perceptron\n",
    "perceptron_train_accuracy = perceptron_clf.score(X_train, y_train)\n",
    "perceptron_test_accuracy = perceptron_clf.score(X_test, y_test)\n",
    "train_accuracies.append(perceptron_train_accuracy)\n",
    "test_accuracies.append(perceptron_test_accuracy)\n",
    "print('Perceptron Test \\n')\n",
    "print('Perceptron accuracy for training data: {:.3f}'.format(perceptron_train_accuracy))\n",
    "print('Perceptron accuracy for test data: {:.3f}'.format(perceptron_test_accuracy))\n",
    "print('Perceptron Classification report:\\n\\n', classification_report(y_test, perceptron_predict))\n",
    "print(\"---------------------------------------------------------------------\")\n",
    "\n",
    "# MLP experiment\n",
    "max_acc = 0.0\n",
    "max_iter_best = 1\n",
    "\n",
    "clf = MLPClassifier(random_state=0, activation='logistic', solver='adam', hidden_layer_sizes=(10,), max_iter=1000)\n",
    "clf.fit(X_train, y_train)\n",
    "clf_predict = clf.predict(X_test)\n",
    "\n",
    "# Accuracy factors for MLP\n",
    "mlp_train_accuracy = clf.score(X_train, y_train)\n",
    "mlp_test_accuracy = clf.score(X_test, y_test)\n",
    "train_accuracies.append(mlp_train_accuracy)\n",
    "test_accuracies.append(mlp_test_accuracy)\n",
    "print('Multi Layer Perceptron Test \\n')\n",
    "print('Accuracy for training data: {:.3f}'.format(mlp_train_accuracy))\n",
    "print('Accuracy for test data: {:.3f}'.format(mlp_test_accuracy))\n",
    "print('MLP Classification report:\\n\\n', classification_report(y_test, clf_predict))\n",
    "print(\"---------------------------------------------------------------------\\n\")\n",
    "\n",
    "\n"
   ]
  },
  {
   "cell_type": "code",
   "execution_count": 38,
   "metadata": {},
   "outputs": [
    {
     "data": {
      "image/png": "[encoded data removed]",
      "text/plain": [
       "<Figure size 800x500 with 1 Axes>"
      ]
     },
     "metadata": {},
     "output_type": "display_data"
    }
   ],
   "source": [
    "import matplotlib.pyplot as plt\n",
    "fig, ax = plt.subplots(figsize=(8, 5))\n",
    "\n",
    "# Index for each label & bar width\n",
    "index = range(len(model))\n",
    "bar_width = 0.35\n",
    "\n",
    "# Plotting both training and test accuracies\n",
    "ax.bar(index, train_accuracies, bar_width, label='Training Accuracy')\n",
    "ax.bar([p + bar_width for p in index], test_accuracies, bar_width, label='Test Accuracy')\n",
    "\n",
    "# Adding labels, titles, and x-axis as model tick labels, etc.\n",
    "ax.set_xlabel('Model')\n",
    "ax.set_ylabel('Accuracy')\n",
    "ax.set_title('Training and Test Accuracies by Model')\n",
    "ax.set_xticks([p + bar_width / 2 for p in index])\n",
    "ax.set_xticklabels(model)\n",
    "ax.legend()\n",
    "plt.show()"
   ]
  },
  {
   "cell_type": "markdown",
   "metadata": {},
   "source": [
    "<h3> <font color=\"blue\"> Receiver Operating Characteristic (ROC) curves </font> </h3>\n",
    "\n",
    "ROC curves are one of the most useful ways to evaluate and compare learning algorithms. Below we compare the performance of two MLP classifiers (i.e. MLP1 and MLP2) with different parameters"
   ]
  },
  {
   "cell_type": "code",
   "execution_count": 35,
   "metadata": {},
   "outputs": [
    {
     "name": "stdout",
     "output_type": "stream",
     "text": [
      "Baseline (random guess): ROC AUC=0.500\n",
      "MLP 1 (hidden layer sizes=5): ROC AUC=0.483\n",
      "MLP 2 (hidden layer sizes=10): ROC AUC=0.953\n"
     ]
    },
    {
     "data": {
      "image/png": "[encoded data removed]",
      "text/plain": [
       "<Figure size 640x480 with 1 Axes>"
      ]
     },
     "metadata": {},
     "output_type": "display_data"
    }
   ],
   "source": [
    "# roc curve and auc\n",
    "from sklearn.datasets import make_classification\n",
    "from sklearn.metrics import roc_curve\n",
    "from sklearn.metrics import roc_auc_score\n",
    "from matplotlib import pyplot\n",
    "\n",
    "X_train, X_test, y_train, y_test = train_test_split(X, y, random_state=0)\n",
    "\n",
    "# generate a random prediction (majority class)\n",
    "ns_probs = [0 for _ in range(len(y_test))]\n",
    "# fit first model(MLP 1)\n",
    "clf1 = MLPClassifier(random_state=0, activation='logistic', hidden_layer_sizes=(5,), max_iter=100)\n",
    "clf1.fit(X_train, y_train)\n",
    "# fit second model(MLP 2)\n",
    "clf2 = MLPClassifier(random_state=0, activation='logistic', hidden_layer_sizes=(10,), max_iter=100)\n",
    "clf2.fit(X_train, y_train)\n",
    "\n",
    "\n",
    "# predict probabilities for different models\n",
    "lr_probs1 = clf1.predict_proba(X_test)\n",
    "lr_probs2 = clf2.predict_proba(X_test)\n",
    "\n",
    "# keep probabilities for the positive outcome only\n",
    "lr_probs1 = lr_probs1[:, 1]\n",
    "lr_probs2 = lr_probs2[:, 1]\n",
    "\n",
    "# calculate accuracy score for random prediction model\n",
    "ns_auc = roc_auc_score(y_test, ns_probs)\n",
    "\n",
    "# calculate accuracy score different MLP models\n",
    "lr_auc1 = roc_auc_score(y_test, lr_probs1)\n",
    "lr_auc2 = roc_auc_score(y_test, lr_probs2)\n",
    "\n",
    "# summarize scores\n",
    "print('Baseline (random guess): ROC AUC=%.3f' % (ns_auc))\n",
    "print('MLP 1 (hidden layer sizes=5): ROC AUC=%.3f' % (lr_auc1))\n",
    "print('MLP 2 (hidden layer sizes=10): ROC AUC=%.3f' % (lr_auc2))\n",
    "\n",
    "# calculate roc curves\n",
    "ns_fpr, ns_tpr, _ = roc_curve(y_test, ns_probs)\n",
    "lr_fpr1, lr_tpr1, _ = roc_curve(y_test, lr_probs1)\n",
    "lr_fpr2, lr_tpr2, _ = roc_curve(y_test, lr_probs2)\n",
    "\n",
    "# plot the roc curve for the model\n",
    "pyplot.plot(ns_fpr, ns_tpr, linestyle='--', label='Baseline (random guess)')\n",
    "pyplot.plot(lr_fpr1, lr_tpr1, marker='.', label='MLP 1 (hidden layer sizes=5)')\n",
    "pyplot.plot(lr_fpr2, lr_tpr2, marker='.', label='MLP 2 (hidden layer sizes=10)')\n",
    "# axis labels\n",
    "pyplot.xlabel('False Positive Rate')\n",
    "pyplot.ylabel('True Positive Rate')\n",
    "# show the legend\n",
    "pyplot.legend()\n",
    "# show the plot\n",
    "pyplot.show()\n"
   ]
  },
  {
   "cell_type": "markdown",
   "metadata": {},
   "source": [
    "<h3><font color=\"red\">Exercise 3 </font> </h3>\n",
    "<p>Repeat the experiment above and define a new MLP classifier (named MLP 3) try to further improve the accuracy of the MLP 3 by changing the parameters, e.g. increasing 'hidden_layer_sizes' and 'max_iter'. What is the max accuracy you can get by tuning the parameters ?</p>\n",
    "\n",
    "<p>Use the code cell below to write your code for Excercise 3</p>"
   ]
  },
  {
   "cell_type": "code",
   "execution_count": 41,
   "metadata": {},
   "outputs": [
    {
     "name": "stdout",
     "output_type": "stream",
     "text": [
      "Baseline (random guess): ROC AUC=0.500\n",
      "MLP 1 (hidden layer sizes=5): ROC AUC=0.483\n",
      "MLP 2 (hidden layer sizes=10): ROC AUC=0.953\n",
      "MLP 3 (hidden layer sizes=20): ROC AUC=0.978\n"
     ]
    },
    {
     "data": {
      "image/png": "[encoded data removed]",
      "text/plain": [
       "<Figure size 640x480 with 1 Axes>"
      ]
     },
     "metadata": {},
     "output_type": "display_data"
    }
   ],
   "source": [
    "# Answer to Exercise 3\n",
    "\n",
    "\n",
    "# Fit third model (MLP 3)\n",
    "clf3 = MLPClassifier(random_state=0, activation='logistic', hidden_layer_sizes=(20,), max_iter=1000)\n",
    "clf3.fit(X_train, y_train)\n",
    "\n",
    "# Predict probabilities for different models\n",
    "lr_probs3 = clf3.predict_proba(X_test)[:, 1]\n",
    "\n",
    "# Calculate accuracy score for random prediction model\n",
    "ns_auc = roc_auc_score(y_test, ns_probs)\n",
    "\n",
    "# Calculate accuracy score for different MLP models\n",
    "lr_auc3 = roc_auc_score(y_test, lr_probs3)\n",
    "\n",
    "# Summarize scores\n",
    "print('Baseline (random guess): ROC AUC=%.3f' % ns_auc)\n",
    "print('MLP 1 (hidden layer sizes=5): ROC AUC=%.3f' % lr_auc1)\n",
    "print('MLP 2 (hidden layer sizes=10): ROC AUC=%.3f' % lr_auc2)\n",
    "print('MLP 3 (hidden layer sizes=20): ROC AUC=%.3f' % lr_auc3)\n",
    "\n",
    "# Calculate ROC curves\n",
    "lr_fpr3, lr_tpr3, _ = roc_curve(y_test, lr_probs3)\n",
    "\n",
    "# Plot the ROC curve for the models\n",
    "plt.plot(ns_fpr, ns_tpr, linestyle='--', label='Baseline (random guess)')\n",
    "plt.plot(lr_fpr1, lr_tpr1, marker='.', label='MLP 1 (hidden layer sizes=5)')\n",
    "plt.plot(lr_fpr2, lr_tpr2, marker='.', label='MLP 2 (hidden layer sizes=10)')\n",
    "plt.plot(lr_fpr3, lr_tpr3, marker='.', label='MLP 3 (hidden layer sizes=20)')\n",
    "\n",
    "# Axis labels\n",
    "plt.xlabel('False Positive Rate')\n",
    "plt.ylabel('True Positive Rate')\n",
    "\n",
    "# Show the legend\n",
    "plt.legend()\n",
    "\n",
    "# Show the plot\n",
    "plt.show()\n",
    "\n"
   ]
  },
  {
   "cell_type": "markdown",
   "metadata": {},
   "source": [
    "<h3><font color=\"red\">Exercise 4 </font> </h3>\n",
    "<p>Repeat the experiment in Exercise 3 but instead of a new MLP classifier define a Perceptron (named P 1) on the same dataset (i.e. breast cancer) and compare the result with MLP 1 and MLP 2. What do you think might be the reason for the difference between the performance of the MLP classifiers and the Perceptron on this dataset? Try to chnage the Perceptron parameters (reduce the learning rate, Eta) and repeat the experiment. </p>\n",
    "\n",
    "<p>Use the code cell below to write your code for Exercise 4</p>"
   ]
  },
  {
   "cell_type": "code",
   "execution_count": 42,
   "metadata": {},
   "outputs": [
    {
     "name": "stdout",
     "output_type": "stream",
     "text": [
      "Baseline (random guess): ROC AUC=0.500\n",
      "MLP 1 (hidden layer sizes=5): ROC AUC=0.483\n",
      "MLP 2 (hidden layer sizes=10): ROC AUC=0.953\n",
      "Perceptron (P1): ROC AUC=0.860\n",
      "Perceptron with reduced learning rate (P2): ROC AUC=0.860\n"
     ]
    },
    {
     "data": {
      "image/png": "[encoded data removed]",
      "text/plain": [
       "<Figure size 640x480 with 1 Axes>"
      ]
     },
     "metadata": {},
     "output_type": "display_data"
    }
   ],
   "source": [
    "# Answer to Exercise 4 \n",
    "# Hint: Unlike MLP, Perceptron doesn't have 'predict_proba' but you can implement it using CalibratedClassifierCV as shown below\n",
    "#\n",
    "# ppn = Perceptron(eta0=0.01, random_state=0, max_iter=100)\n",
    "# ppn = CalibratedClassifierCV(ppn)\n",
    "#\n",
    "# and then you can call ppn.predict_proba\n",
    "\n",
    "# Assuming you have X, y defined\n",
    "\n",
    "X_train, X_test, y_train, y_test = train_test_split(X, y, random_state=0)\n",
    "\n",
    "# generate a random prediction (majority class)\n",
    "ns_probs = [0 for _ in range(len(y_test))]\n",
    "\n",
    "# fit first model (MLP 1)\n",
    "mlp1 = MLPClassifier(random_state=0, activation='logistic', hidden_layer_sizes=(5,), max_iter=100)\n",
    "mlp1.fit(X_train, y_train)\n",
    "\n",
    "# fit second model (MLP 2)\n",
    "mlp2 = MLPClassifier(random_state=0, activation='logistic', hidden_layer_sizes=(10,), max_iter=100)\n",
    "mlp2.fit(X_train, y_train)\n",
    "\n",
    "# fit third model (Perceptron - P1)\n",
    "p1 = Perceptron(random_state=0, max_iter=1000)\n",
    "p1.fit(X_train, y_train)\n",
    "\n",
    "# fit fourth model (Perceptron with reduced learning rate - P2)\n",
    "p2 = Perceptron(random_state=0, max_iter=100, eta0=0.0001)  # Example: reducing the learning rate\n",
    "p2.fit(X_train, y_train)\n",
    "\n",
    "# predict probabilities for different models\n",
    "mlp1_probs = mlp1.predict_proba(X_test)[:, 1]\n",
    "mlp2_probs = mlp2.predict_proba(X_test)[:, 1]\n",
    "p1_probs = p1.decision_function(X_test)\n",
    "p2_probs = p2.decision_function(X_test)\n",
    "\n",
    "# calculate accuracy score for random prediction model\n",
    "ns_auc = roc_auc_score(y_test, ns_probs)\n",
    "\n",
    "# calculate accuracy score for different models\n",
    "mlp1_auc = roc_auc_score(y_test, mlp1_probs)\n",
    "mlp2_auc = roc_auc_score(y_test, mlp2_probs)\n",
    "p1_auc = roc_auc_score(y_test, p1_probs)\n",
    "p2_auc = roc_auc_score(y_test, p2_probs)\n",
    "\n",
    "# summarize scores\n",
    "print('Baseline (random guess): ROC AUC=%.3f' % (ns_auc))\n",
    "print('MLP 1 (hidden layer sizes=5): ROC AUC=%.3f' % (mlp1_auc))\n",
    "print('MLP 2 (hidden layer sizes=10): ROC AUC=%.3f' % (mlp2_auc))\n",
    "print('Perceptron (P1): ROC AUC=%.3f' % (p1_auc))\n",
    "print('Perceptron with reduced learning rate (P2): ROC AUC=%.3f' % (p2_auc))\n",
    "\n",
    "# calculate roc curves\n",
    "ns_fpr, ns_tpr, _ = roc_curve(y_test, ns_probs)\n",
    "mlp1_fpr, mlp1_tpr, _ = roc_curve(y_test, mlp1_probs)\n",
    "mlp2_fpr, mlp2_tpr, _ = roc_curve(y_test, mlp2_probs)\n",
    "p1_fpr, p1_tpr, _ = roc_curve(y_test, p1_probs)\n",
    "p2_fpr, p2_tpr, _ = roc_curve(y_test, p2_probs)\n",
    "\n",
    "# plot the roc curve for the model\n",
    "plt.plot(ns_fpr, ns_tpr, linestyle='--', label='Baseline (random guess)')\n",
    "plt.plot(mlp1_fpr, mlp1_tpr, marker='.', label='MLP 1 (hidden layer sizes=5)')\n",
    "plt.plot(mlp2_fpr, mlp2_tpr, marker='.', label='MLP 2 (hidden layer sizes=10)')\n",
    "plt.plot(p1_fpr, p1_tpr, marker='.', label='Perceptron (P1)')\n",
    "plt.plot(p2_fpr, p2_tpr, marker='.', label='Perceptron with reduced learning rate (P2)')\n",
    "\n",
    "# axis labels\n",
    "plt.xlabel('False Positive Rate')\n",
    "plt.ylabel('True Positive Rate')\n",
    "\n",
    "# show the legend\n",
    "plt.legend()\n",
    "\n",
    "# show the plot\n",
    "plt.show()\n"
   ]
  },
  {
   "cell_type": "markdown",
   "metadata": {},
   "source": [
    "<h3><font color=\"red\">Save your notebook after completing the exercises and submit it to SurreyLearn (Assessments -> Assignments -> Lab Exercises - Week 3) as a python notebook file in ipynb formt. </h3>\n",
    "<h3><font color=\"red\">Deadline: 4:00pm Thursday 29 Feb  </h3> "
   ]
  }
 ],
 "metadata": {
  "kernelspec": {
   "display_name": "Python 3 (ipykernel)",
   "language": "python",
   "name": "python3"
  },
  "language_info": {
   "codemirror_mode": {
    "name": "ipython",
    "version": 3
   },
   "file_extension": ".py",
   "mimetype": "text/x-python",
   "name": "python",
   "nbconvert_exporter": "python",
   "pygments_lexer": "ipython3",
   "version": "3.11.5"
  }
 },
 "nbformat": 4,
 "nbformat_minor": 4
}
